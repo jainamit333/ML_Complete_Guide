{
 "cells": [
  {
   "cell_type": "markdown",
   "metadata": {},
   "source": [
    "#### Data Seperation"
   ]
  },
  {
   "cell_type": "code",
   "execution_count": 17,
   "metadata": {},
   "outputs": [],
   "source": [
    "import numpy as np\n",
    "import math "
   ]
  },
  {
   "cell_type": "code",
   "execution_count": 27,
   "metadata": {},
   "outputs": [],
   "source": [
    "## Shuffle and get Batches for Numpy\n",
    "# X:Matrix\n",
    "# y:array\n",
    "def numpy_batches(X, y, batch_size):\n",
    "    rows = len(X);\n",
    "    batches = math.ceil(rows/ batch_size)\n",
    "    return np.array_split(X, batches), np.array_split(y, batches)"
   ]
  },
  {
   "cell_type": "code",
   "execution_count": null,
   "metadata": {},
   "outputs": [],
   "source": [
    "### Filter Row Based on Coloumn Value\n",
    "def filter_based_on_colounm_value(data, target_col, target_value):\n",
    "    return data.loc[data[target_col] == target_value]"
   ]
  },
  {
   "cell_type": "code",
   "execution_count": 3,
   "metadata": {},
   "outputs": [],
   "source": [
    "### Split Data\n",
    "def split_training_and_test(data_frame, training_percentage):\n",
    "    training_number = data_frame.shape[0] * training_percentage / 100\n",
    "    test_number = data_frame.shape[0] - training_number\n",
    "    return data_frame.head(int(training_number)), data_frame.tail(int(test_number))"
   ]
  },
  {
   "cell_type": "code",
   "execution_count": 5,
   "metadata": {},
   "outputs": [],
   "source": [
    "### Seperate into  feature and target \n",
    "def seperate_feature_and_target(data, feature_name):\n",
    "    return data_train.loc[:, data.columns !=  feature_name], data_train[feature_name] "
   ]
  },
  {
   "cell_type": "markdown",
   "metadata": {},
   "source": [
    "#### Data Manipulation"
   ]
  },
  {
   "cell_type": "code",
   "execution_count": null,
   "metadata": {},
   "outputs": [],
   "source": [
    "## Replace String value with some int value\n",
    "def convert_string_to_value(dataFrame, string_value, int_value):\n",
    "        dataFrame = dataFrame.replace(string_value, int_value)\n",
    "        return dataFrame;"
   ]
  },
  {
   "cell_type": "code",
   "execution_count": null,
   "metadata": {},
   "outputs": [],
   "source": [
    "### Data Shuffle \n"
   ]
  },
  {
   "cell_type": "code",
   "execution_count": null,
   "metadata": {},
   "outputs": [],
   "source": [
    "## COMMENT PENDING\n",
    "def convert_to_one_hot_encoding(dataframe, cols):\n",
    "    for col in cols:\n",
    "        encoded_df = one_hot_encoding(dataframe[col], col)\n",
    "        dataframe = pd.concat([dataframe, encoded_df],axis=1)\n",
    "        dataframe.drop([col], axis=1, inplace=True) "
   ]
  },
  {
   "cell_type": "markdown",
   "metadata": {},
   "source": [
    "#### Data Understanding "
   ]
  },
  {
   "cell_type": "code",
   "execution_count": 29,
   "metadata": {},
   "outputs": [],
   "source": [
    "## Check which all coloumn contain null value in the dataframe.\n",
    "def panda_null_col_evaluation(data):\n",
    "    return data.columns[data.isna().any()].tolist()"
   ]
  },
  {
   "cell_type": "code",
   "execution_count": null,
   "metadata": {},
   "outputs": [],
   "source": [
    "## Check the correlation between different coloumn in panda dataframe.\n",
    "def pandas_correlation(data):\n",
    "    return data.apply(lambda s: data.corrwith(s))"
   ]
  },
  {
   "cell_type": "markdown",
   "metadata": {},
   "source": [
    "#### Data Shape Conversion"
   ]
  },
  {
   "cell_type": "code",
   "execution_count": 1,
   "metadata": {},
   "outputs": [],
   "source": [
    "## any matrix to array \n",
    "def matrix_to_array(matrix):\n",
    "    return np.squeeze(np.asarray(matrix))"
   ]
  },
  {
   "cell_type": "code",
   "execution_count": 4,
   "metadata": {},
   "outputs": [],
   "source": [
    "## Merge 2 DataFrames\n",
    "def merge_data_frames(data1, data2):\n",
    "    return pd.concat([data1, data2])"
   ]
  },
  {
   "cell_type": "markdown",
   "metadata": {},
   "source": [
    "#### Data Visualization"
   ]
  },
  {
   "cell_type": "code",
   "execution_count": null,
   "metadata": {},
   "outputs": [],
   "source": [
    "## Histogram representation of all the coloums except target\n",
    "def data_histogram(data, target_class):\n",
    "    data.loc[:, data.columns !=  target_class].hist(figsize= [20,20], layout=[    len(data.columns)/2, 2])\n"
   ]
  },
  {
   "cell_type": "code",
   "execution_count": null,
   "metadata": {},
   "outputs": [],
   "source": [
    "## Class Distribution In Classification\n",
    "def class_distribution(data, target_class):\n",
    "    plt.hist(data.target_class, bins=2, rwidth=0.8)"
   ]
  },
  {
   "cell_type": "markdown",
   "metadata": {},
   "source": [
    "#### Result Evaluation"
   ]
  },
  {
   "cell_type": "code",
   "execution_count": 2,
   "metadata": {},
   "outputs": [],
   "source": [
    "### Multi Class Classification Response Comparision\n",
    "def evaluate_sk_grid_model(model, params, X_train, y_train, X_test, y_test):\n",
    "    grid_search = GridSearchCV(model, params, n_jobs=-1, cv=3)\n",
    "    grid_search.fit(X_train, y_train)\n",
    "    print('Best Params', grid_search.best_params_)\n",
    "    print(\"Best Score\", grid_search.best_score_)\n",
    "    prediction = grid_search.best_estimator_.predict(X_test)\n",
    "    print('Accuracy Score', accuracy_score(y_test, prediction))\n",
    "    print('Classification  Report', classification_report(y_test, prediction))  "
   ]
  }
 ],
 "metadata": {
  "kernelspec": {
   "display_name": "Python 3",
   "language": "python",
   "name": "python3"
  },
  "language_info": {
   "codemirror_mode": {
    "name": "ipython",
    "version": 3
   },
   "file_extension": ".py",
   "mimetype": "text/x-python",
   "name": "python",
   "nbconvert_exporter": "python",
   "pygments_lexer": "ipython3",
   "version": "3.6.5"
  }
 },
 "nbformat": 4,
 "nbformat_minor": 2
}
