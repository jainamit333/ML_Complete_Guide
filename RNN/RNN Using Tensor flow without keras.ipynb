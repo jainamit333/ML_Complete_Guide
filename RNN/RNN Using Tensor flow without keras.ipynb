{
 "cells": [
  {
   "cell_type": "markdown",
   "metadata": {},
   "source": [
    "### Problem Statement\n",
    "Try to create a simple RNN model using Tensorflow layer. <br> We will test the model against Stock Price Prediction. Compare model result with different Optimizers and use Both LSTM and GRU Cell.\n"
   ]
  },
  {
   "cell_type": "code",
   "execution_count": 1,
   "metadata": {},
   "outputs": [],
   "source": [
    "import tensorflow as tf"
   ]
  },
  {
   "cell_type": "code",
   "execution_count": null,
   "metadata": {},
   "outputs": [],
   "source": [
    "def model_basic_rnn_cell(n_steps, n_inputs, n_outputs, num_of_layer, n_neurons, activation_fn):\n",
    "    \n",
    "    \n",
    "    X = tf.placeholder(tf.float32, [None, n_steps, n_inputs]);\n",
    "    y = tf.placeholder(tf.float32, [None, n_steps, n_outputs]);\n",
    "    \n",
    "    layers = [ tf.contrib.rnn.BasicRNNCell(num_units= n_neurons, activation = activation_fn) for layer in range(num_of_layer)]\n",
    "    multi_layer_cell = tf.contrib.rnn.MultiRNNCell(layers)    \n",
    "    outputs, states = tf.nn.dynamic_rnn(multi_layer_cell)\n",
    "    \n",
    "    \n",
    "    \n",
    "    "
   ]
  }
 ],
 "metadata": {
  "kernelspec": {
   "display_name": "Python 3",
   "language": "python",
   "name": "python3"
  },
  "language_info": {
   "codemirror_mode": {
    "name": "ipython",
    "version": 3
   },
   "file_extension": ".py",
   "mimetype": "text/x-python",
   "name": "python",
   "nbconvert_exporter": "python",
   "pygments_lexer": "ipython3",
   "version": "3.6.8"
  }
 },
 "nbformat": 4,
 "nbformat_minor": 2
}
