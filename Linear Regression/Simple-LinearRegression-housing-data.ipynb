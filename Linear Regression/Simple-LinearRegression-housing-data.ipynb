{
 "cells": [
  {
   "cell_type": "code",
   "execution_count": 73,
   "metadata": {},
   "outputs": [],
   "source": [
    "import pandas as pd;\n",
    "import numpy as np;\n",
    "from sklearn.metrics import mean_squared_error\n",
    "import matplotlib.pyplot as plt"
   ]
  },
  {
   "cell_type": "code",
   "execution_count": 78,
   "metadata": {},
   "outputs": [],
   "source": [
    "data = pd.read_csv('/Users/amitjain/Downloads/Housing.csv');"
   ]
  },
  {
   "cell_type": "code",
   "execution_count": 79,
   "metadata": {},
   "outputs": [
    {
     "data": {
      "text/html": [
       "<div>\n",
       "<style scoped>\n",
       "    .dataframe tbody tr th:only-of-type {\n",
       "        vertical-align: middle;\n",
       "    }\n",
       "\n",
       "    .dataframe tbody tr th {\n",
       "        vertical-align: top;\n",
       "    }\n",
       "\n",
       "    .dataframe thead th {\n",
       "        text-align: right;\n",
       "    }\n",
       "</style>\n",
       "<table border=\"1\" class=\"dataframe\">\n",
       "  <thead>\n",
       "    <tr style=\"text-align: right;\">\n",
       "      <th></th>\n",
       "      <th>Unnamed: 0</th>\n",
       "      <th>price</th>\n",
       "      <th>lotsize</th>\n",
       "      <th>bedrooms</th>\n",
       "      <th>bathrms</th>\n",
       "      <th>stories</th>\n",
       "      <th>driveway</th>\n",
       "      <th>recroom</th>\n",
       "      <th>fullbase</th>\n",
       "      <th>gashw</th>\n",
       "      <th>airco</th>\n",
       "      <th>garagepl</th>\n",
       "      <th>prefarea</th>\n",
       "    </tr>\n",
       "  </thead>\n",
       "  <tbody>\n",
       "    <tr>\n",
       "      <th>0</th>\n",
       "      <td>1</td>\n",
       "      <td>42000.0</td>\n",
       "      <td>5850</td>\n",
       "      <td>3</td>\n",
       "      <td>1</td>\n",
       "      <td>2</td>\n",
       "      <td>yes</td>\n",
       "      <td>no</td>\n",
       "      <td>yes</td>\n",
       "      <td>no</td>\n",
       "      <td>no</td>\n",
       "      <td>1</td>\n",
       "      <td>no</td>\n",
       "    </tr>\n",
       "    <tr>\n",
       "      <th>1</th>\n",
       "      <td>2</td>\n",
       "      <td>38500.0</td>\n",
       "      <td>4000</td>\n",
       "      <td>2</td>\n",
       "      <td>1</td>\n",
       "      <td>1</td>\n",
       "      <td>yes</td>\n",
       "      <td>no</td>\n",
       "      <td>no</td>\n",
       "      <td>no</td>\n",
       "      <td>no</td>\n",
       "      <td>0</td>\n",
       "      <td>no</td>\n",
       "    </tr>\n",
       "    <tr>\n",
       "      <th>2</th>\n",
       "      <td>3</td>\n",
       "      <td>49500.0</td>\n",
       "      <td>3060</td>\n",
       "      <td>3</td>\n",
       "      <td>1</td>\n",
       "      <td>1</td>\n",
       "      <td>yes</td>\n",
       "      <td>no</td>\n",
       "      <td>no</td>\n",
       "      <td>no</td>\n",
       "      <td>no</td>\n",
       "      <td>0</td>\n",
       "      <td>no</td>\n",
       "    </tr>\n",
       "    <tr>\n",
       "      <th>3</th>\n",
       "      <td>4</td>\n",
       "      <td>60500.0</td>\n",
       "      <td>6650</td>\n",
       "      <td>3</td>\n",
       "      <td>1</td>\n",
       "      <td>2</td>\n",
       "      <td>yes</td>\n",
       "      <td>yes</td>\n",
       "      <td>no</td>\n",
       "      <td>no</td>\n",
       "      <td>no</td>\n",
       "      <td>0</td>\n",
       "      <td>no</td>\n",
       "    </tr>\n",
       "    <tr>\n",
       "      <th>4</th>\n",
       "      <td>5</td>\n",
       "      <td>61000.0</td>\n",
       "      <td>6360</td>\n",
       "      <td>2</td>\n",
       "      <td>1</td>\n",
       "      <td>1</td>\n",
       "      <td>yes</td>\n",
       "      <td>no</td>\n",
       "      <td>no</td>\n",
       "      <td>no</td>\n",
       "      <td>no</td>\n",
       "      <td>0</td>\n",
       "      <td>no</td>\n",
       "    </tr>\n",
       "  </tbody>\n",
       "</table>\n",
       "</div>"
      ],
      "text/plain": [
       "   Unnamed: 0    price  lotsize  bedrooms  bathrms  stories driveway recroom  \\\n",
       "0           1  42000.0     5850         3        1        2      yes      no   \n",
       "1           2  38500.0     4000         2        1        1      yes      no   \n",
       "2           3  49500.0     3060         3        1        1      yes      no   \n",
       "3           4  60500.0     6650         3        1        2      yes     yes   \n",
       "4           5  61000.0     6360         2        1        1      yes      no   \n",
       "\n",
       "  fullbase gashw airco  garagepl prefarea  \n",
       "0      yes    no    no         1       no  \n",
       "1       no    no    no         0       no  \n",
       "2       no    no    no         0       no  \n",
       "3       no    no    no         0       no  \n",
       "4       no    no    no         0       no  "
      ]
     },
     "execution_count": 79,
     "metadata": {},
     "output_type": "execute_result"
    }
   ],
   "source": [
    "data.head()"
   ]
  },
  {
   "cell_type": "markdown",
   "metadata": {},
   "source": [
    "Will try the linear regression on few of the features as of now , we are not focusing on feature selection as of now.\n",
    "Will take sqft_living,bedrooms, sqft_lot, floors and grade our features, and price as label."
   ]
  },
  {
   "cell_type": "code",
   "execution_count": 90,
   "metadata": {},
   "outputs": [],
   "source": [
    "input_data = data[['lotsize']];\n",
    "output_data = data[['price']];"
   ]
  },
  {
   "cell_type": "code",
   "execution_count": 91,
   "metadata": {},
   "outputs": [
    {
     "name": "stdout",
     "output_type": "stream",
     "text": [
      "            lotsize\n",
      "count    546.000000\n",
      "mean    5150.265568\n",
      "std     2168.158725\n",
      "min     1650.000000\n",
      "25%     3600.000000\n",
      "50%     4600.000000\n",
      "75%     6360.000000\n",
      "max    16200.000000\n"
     ]
    }
   ],
   "source": [
    "print(input_data.describe())"
   ]
  },
  {
   "cell_type": "code",
   "execution_count": 92,
   "metadata": {},
   "outputs": [
    {
     "data": {
      "image/png": "[encoded data removed]",
      "text/plain": [
       "<Figure size 432x288 with 1 Axes>"
      ]
     },
     "metadata": {},
     "output_type": "display_data"
    }
   ],
   "source": [
    "a = np.asarray(data['price']) - float(data['price'].describe().mean());\n",
    "a_1 = np.transpose(np.asmatrix(a/float(data['price'].describe().max() - data['price'].describe().min())))\n",
    "\n",
    "feature = 'lotsize'\n",
    "b = np.asarray(data[feature]) - float(data[feature].describe().mean());\n",
    "b_1 = np.transpose(np.asmatrix(b/float(data[feature].describe().max() - data[feature].describe().min())))\n",
    "\n",
    "\n",
    "\n",
    "plt.plot(a_1, b_1,'ro')\n",
    "plt.ylabel('price')\n",
    "plt.ylabel(feature)\n",
    "plt.show()"
   ]
  },
  {
   "cell_type": "code",
   "execution_count": 110,
   "metadata": {},
   "outputs": [
    {
     "name": "stdout",
     "output_type": "stream",
     "text": [
      "(546, 1)\n",
      "(546, 1)\n"
     ]
    }
   ],
   "source": [
    "print(np.shape(np.asmatrix(a_1)))\n",
    "print(np.shape(np.asmatrix(b_1)))"
   ]
  },
  {
   "cell_type": "markdown",
   "metadata": {},
   "source": [
    "Will use __linear_regression_cost__ and __linear_regression_gd__ and __plot_array__ for simple linear regression"
   ]
  },
  {
   "cell_type": "code",
   "execution_count": 132,
   "metadata": {},
   "outputs": [],
   "source": [
    "def linear_regression_cost_single_feature(input_data, expected_output, weights, bias):\n",
    "    predicted_output = np.matmul(input_data, np.transpose(weights)) + bias\n",
    "    return mean_squared_error(expected_output, predicted_output)\n",
    "\n",
    "def linear_regression_gd_single_feature(input_data, expected_output, weights, bias, learning_rate):\n",
    "    m = np.shape(expected_output)[0];\n",
    "    predicted_output = np.matmul(input_data, np.transpose(weights)) + bias;\n",
    "    error =  expected_output - predicted_output\n",
    "    bias_delta = np.sum(error)/m;\n",
    "    weight_delta = np.sum(np.multiply(error, X))/m;\n",
    "    return bias - (learning_rate * bias_delta), weights - (learning_rate * weight_delta)\n",
    "\n",
    "def plot_array(input_array):\n",
    "    plt.plot(input_array)\n",
    "    plt.ylabel('values')\n",
    "    plt.show()"
   ]
  },
  {
   "cell_type": "code",
   "execution_count": 133,
   "metadata": {},
   "outputs": [
    {
     "name": "stdout",
     "output_type": "stream",
     "text": [
      "shape of input  (546, 1)\n",
      "shape of expected output  (546, 1)\n",
      "Size of weight matrix (1, 1)\n"
     ]
    }
   ],
   "source": [
    "X = np.transpose(np.matrix(data['price']));\n",
    "print('shape of input ', np.shape(X));\n",
    "Y = np.transpose(np.matrix(data['lotsize']));\n",
    "print('shape of expected output ', np.shape(Y));\n",
    "bias = 0;\n",
    "W = np.asmatrix(np.zeros(1));\n",
    "print('Size of weight matrix', np.shape(W));"
   ]
  },
  {
   "cell_type": "markdown",
   "metadata": {},
   "source": [
    "__Trying Linear Regression with intial bias 0 and initial weights 0.__"
   ]
  },
  {
   "cell_type": "code",
   "execution_count": 134,
   "metadata": {},
   "outputs": [
    {
     "name": "stdout",
     "output_type": "stream",
     "text": [
      "Number of Iterations  20\n",
      "Current_learing_rate  0.001\n"
     ]
    }
   ],
   "source": [
    "number_of_iterations = 20\n",
    "learning_rate = 0.001\n",
    "cost_array = [None] * number_of_iterations\n",
    "print('Number of Iterations ', number_of_iterations);\n",
    "print('Current_learing_rate ', learning_rate);"
   ]
  },
  {
   "cell_type": "code",
   "execution_count": 135,
   "metadata": {},
   "outputs": [
    {
     "name": "stdout",
     "output_type": "stream",
     "text": [
      "Cost at  0 is  31217537.946886446\n",
      "Cost at  1 is  7.802401863451338e+20\n",
      "Cost at  2 is  2.235146104177535e+34\n",
      "Cost at  3 is  6.403000248451888e+47\n",
      "Cost at  4 is  1.8342609507740024e+61\n",
      "Cost at  5 is  5.254588638111975e+74\n",
      "Cost at  6 is  1.5052766480213515e+88\n",
      "Cost at  7 is  4.3121506613171164e+101\n",
      "Cost at  8 is  1.235297401998486e+115\n",
      "Cost at  9 is  3.538743868745336e+128\n",
      "Cost at  10 is  1.013740346925627e+142\n",
      "Cost at  11 is  2.90405163273162e+155\n",
      "Cost at  12 is  8.319207093954121e+168\n",
      "Cost at  13 is  2.3831947714716338e+182\n",
      "Cost at  14 is  6.827113755705545e+195\n",
      "Cost at  15 is  1.9557563146449133e+209\n",
      "Cost at  16 is  5.6026351678655466e+222\n",
      "Cost at  17 is  1.6049811824282852e+236\n",
      "Cost at  18 is  4.597773224149219e+249\n",
      "Cost at  19 is  1.317119406267436e+263\n"
     ]
    }
   ],
   "source": [
    "current_bias = bias\n",
    "current_weight = W\n",
    "for i in range(0, number_of_iterations):\n",
    "\n",
    "    cost_array[i] = linear_regression_cost_single_feature(X, Y, current_weight, current_bias)\n",
    "    print('Cost at ',i, 'is ', round(cost_array[i], 10))\n",
    "    new_bias, new_weights  = linear_regression_gd_single_feature(X,Y, current_weight, current_bias,learning_rate) \n",
    "    current_bias = new_bias\n",
    "    current_weight = new_weights"
   ]
  },
  {
   "cell_type": "code",
   "execution_count": 131,
   "metadata": {},
   "outputs": [
    {
     "data": {
      "text/plain": [
       "[<matplotlib.lines.Line2D at 0x1a1ac56080>]"
      ]
     },
     "execution_count": 131,
     "metadata": {},
     "output_type": "execute_result"
    },
    {
     "data": {
      "image/png": "[encoded data removed]",
      "text/plain": [
       "<Figure size 432x288 with 1 Axes>"
      ]
     },
     "metadata": {},
     "output_type": "display_data"
    }
   ],
   "source": [
    "plt.plot(np.asarray(cost_array))"
   ]
  }
 ],
 "metadata": {
  "kernelspec": {
   "display_name": "Python 3",
   "language": "python",
   "name": "python3"
  },
  "language_info": {
   "codemirror_mode": {
    "name": "ipython",
    "version": 3
   },
   "file_extension": ".py",
   "mimetype": "text/x-python",
   "name": "python",
   "nbconvert_exporter": "python",
   "pygments_lexer": "ipython3",
   "version": "3.6.8"
  }
 },
 "nbformat": 4,
 "nbformat_minor": 2
}
